{
 "cells": [
  {
   "cell_type": "code",
   "execution_count": null,
   "id": "93655eb3",
   "metadata": {},
   "outputs": [],
   "source": [
    "import glob\n",
    "import os\n",
    "\n",
    "import pandas as pd\n",
    "pd.set_option('display.max_colwidth', 255)\n",
    "\n",
    "from dpp_helpline_qa.model_validation.model_validation import cal_em_score, calculate_semantic_similarity\n",
    "from dpp_helpline_qa.modelling.question_answer import load_model_flan, answer_question_flan\n",
    "from dpp_helpline_qa.modelling.semantic_search import load_model_ss, context_ranking\n",
    "from dpp_helpline_qa.preprocessing.preprocessing import process_docs"
   ]
  },
  {
   "cell_type": "code",
   "execution_count": null,
   "id": "2499b4e5",
   "metadata": {},
   "outputs": [],
   "source": [
    "# list of questions to ask\n",
    "questions = [\n",
    "\"My test counts have identified differences between the physical number of items in stock and the number recorded in the accounts. Does this mean that I can't place any reliance on the stock count as a control?\",\n",
    "    \"Do I need to attend an entity's inventory count?\",\n",
    "    \"How do I audit inventory if it is held by a third-party?\",\n",
    "    \"When is it impracticable to attend an inventory count?\",\n",
    "    \"Do we need to perform procedures to determine whether the entity's final inventory records accurately reflect the actual inventory count results? If so, what procedures do we perform?\",\n",
    "    \"what procedures do we need to perform to determine whether the entity's final inventory records accurately reflect the actual inventory count results?\",\n",
    "    \"What do you need to document for materiality?\",\n",
    "    \"When in the audit do I determine materiality?\",\n",
    "    \"What factors affect the amount of aggregation risk used when setting performance materiality?\"\n",
    "]"
   ]
  },
  {
   "cell_type": "code",
   "execution_count": null,
   "id": "a315f681",
   "metadata": {},
   "outputs": [],
   "source": [
    "question_no = 5\n",
    "# semantically search the documents and use the most similar section of text to generate an answer to the question\n",
    "question = questions[question_no]\n",
    "op_files = glob.glob('../output/Materiality/*.csv') #Inventory\n",
    "context_df = context_ranking(question, op_files, model_ss, tokenizer_ss)\n",
    "main_context = '\\n'.join(context_df['content'].values[0:5])\n",
    "output = answer_question(model_qa, tokenizer_qa, main_context, question)"
   ]
  },
  {
   "cell_type": "code",
   "execution_count": null,
   "id": "f3ed7c69",
   "metadata": {},
   "outputs": [],
   "source": [
    "# sectioning of doc\n",
    "import fitz\n",
    "from dpp_helpline_qa.preprocessing.preprocessing import fonts, font_tags, headers_para, clean_doc, break_into_para\n",
    "\n",
    "doc1 = os.path.join('..', \"data\", \"Materiality\", \"KAEG part 4\" + \".pdf\")\n",
    "doc = fitz.open(doc1)\n",
    "doc_name = os.path.basename(doc.name)\n",
    "font_counts, styles = fonts(doc)\n",
    "size_tag, p_style = font_tags(doc_name, font_counts, styles)\n",
    "elements = headers_para(doc, size_tag, p_style)\n",
    "text_lines = clean_doc(elements)\n",
    "new_para = break_into_para(text_lines, doc_name)\n",
    "print(len(new_para))\n",
    "new_para"
   ]
  }
 ],
 "metadata": {
  "language_info": {
   "codemirror_mode": {
    "name": "ipython",
    "version": 3
   },
   "file_extension": ".py",
   "mimetype": "text/x-python",
   "name": "python",
   "nbconvert_exporter": "python",
   "pygments_lexer": "ipython3",
   "version": "3.10.0"
  }
 },
 "nbformat": 4,
 "nbformat_minor": 5
}
